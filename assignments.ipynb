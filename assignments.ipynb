{
 "cells": [
  {
   "cell_type": "markdown",
   "metadata": {},
   "source": [
    "# Transaction Analysis"
   ]
  },
  {
   "cell_type": "markdown",
   "metadata": {},
   "source": [
    "Bài 1: Liệt kê tổng kinh phí thu được của mỗi loại hình dịch vụ : key: "
   ]
  },
  {
   "cell_type": "markdown",
   "metadata": {},
   "source": [
    "Bài 2: Thống kê tổng chi phí mỗi khách hàng đã chi trả cho loại hình Outdoor Recreation"
   ]
  },
  {
   "cell_type": "markdown",
   "metadata": {},
   "source": [
    "Bài 3: Liệt kê tên của các khách hàng VIP (khách hàng sử dụng nhiều lần nhất) của từng loại hình dịch vụ."
   ]
  },
  {
   "cell_type": "markdown",
   "metadata": {},
   "source": [
    "Bài 4: Loại hình nào được nhiều người sử dụng nhất? Tổng kinh phí cho loại hình này là bao nhiêu?"
   ]
  }
 ],
 "metadata": {
  "language_info": {
   "name": "python"
  }
 },
 "nbformat": 4,
 "nbformat_minor": 2
}
